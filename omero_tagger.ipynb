{
 "cells": [
  {
   "cell_type": "code",
   "execution_count": 9,
   "metadata": {},
   "outputs": [],
   "source": [
    "\n",
    "import sys"
   ]
  },
  {
   "cell_type": "code",
   "execution_count": 10,
   "metadata": {},
   "outputs": [
    {
     "ename": "FileNotFoundError",
     "evalue": "[Errno 2] No such file or directory: '/Users/mjbarrett/Code/lavlab-python-utils/omero_user.txt'",
     "output_type": "error",
     "traceback": [
      "\u001b[0;31m---------------------------------------------------------------------------\u001b[0m",
      "\u001b[0;31mFileNotFoundError\u001b[0m                         Traceback (most recent call last)",
      "Cell \u001b[0;32mIn[10], line 30\u001b[0m\n\u001b[1;32m     26\u001b[0m         password \u001b[39m=\u001b[39m lines[\u001b[39m1\u001b[39m]\u001b[39m.\u001b[39mstrip()  \u001b[39m# Remove any leading/trailing whitespace\u001b[39;00m\n\u001b[1;32m     28\u001b[0m     \u001b[39mreturn\u001b[39;00m username, password\n\u001b[0;32m---> 30\u001b[0m username, password \u001b[39m=\u001b[39m read_credentials(get_parent_directory()\u001b[39m+\u001b[39;49mos\u001b[39m.\u001b[39;49msep\u001b[39m+\u001b[39;49m\u001b[39m'\u001b[39;49m\u001b[39momero_user.txt\u001b[39;49m\u001b[39m'\u001b[39;49m)\n\u001b[1;32m     31\u001b[0m img_id \u001b[39m=\u001b[39m sys\u001b[39m.\u001b[39margv[\u001b[39m1\u001b[39m]\n\u001b[1;32m     32\u001b[0m downsample_factor\u001b[39m=\u001b[39m\u001b[39m10\u001b[39m\n",
      "Cell \u001b[0;32mIn[10], line 23\u001b[0m, in \u001b[0;36mread_credentials\u001b[0;34m(filename)\u001b[0m\n\u001b[1;32m     14\u001b[0m \u001b[39mdef\u001b[39;00m \u001b[39mread_credentials\u001b[39m(filename):\n\u001b[1;32m     15\u001b[0m \u001b[39m    \u001b[39m\u001b[39m\"\"\"Read a file containing a username and password.\u001b[39;00m\n\u001b[1;32m     16\u001b[0m \u001b[39m    \u001b[39;00m\n\u001b[1;32m     17\u001b[0m \u001b[39m    Args:\u001b[39;00m\n\u001b[0;32m   (...)\u001b[0m\n\u001b[1;32m     21\u001b[0m \u001b[39m        tuple: A tuple containing the username and password.\u001b[39;00m\n\u001b[1;32m     22\u001b[0m \u001b[39m    \"\"\"\u001b[39;00m\n\u001b[0;32m---> 23\u001b[0m     \u001b[39mwith\u001b[39;00m \u001b[39mopen\u001b[39;49m(filename, \u001b[39m'\u001b[39;49m\u001b[39mr\u001b[39;49m\u001b[39m'\u001b[39;49m) \u001b[39mas\u001b[39;00m file:\n\u001b[1;32m     24\u001b[0m         lines \u001b[39m=\u001b[39m file\u001b[39m.\u001b[39mreadlines()\n\u001b[1;32m     25\u001b[0m         username \u001b[39m=\u001b[39m lines[\u001b[39m0\u001b[39m]\u001b[39m.\u001b[39mstrip()  \u001b[39m# Remove any leading/trailing whitespace\u001b[39;00m\n",
      "File \u001b[0;32m/opt/lavlab-native/lib/python3.9/site-packages/IPython/core/interactiveshell.py:284\u001b[0m, in \u001b[0;36m_modified_open\u001b[0;34m(file, *args, **kwargs)\u001b[0m\n\u001b[1;32m    277\u001b[0m \u001b[39mif\u001b[39;00m file \u001b[39min\u001b[39;00m {\u001b[39m0\u001b[39m, \u001b[39m1\u001b[39m, \u001b[39m2\u001b[39m}:\n\u001b[1;32m    278\u001b[0m     \u001b[39mraise\u001b[39;00m \u001b[39mValueError\u001b[39;00m(\n\u001b[1;32m    279\u001b[0m         \u001b[39mf\u001b[39m\u001b[39m\"\u001b[39m\u001b[39mIPython won\u001b[39m\u001b[39m'\u001b[39m\u001b[39mt let you open fd=\u001b[39m\u001b[39m{\u001b[39;00mfile\u001b[39m}\u001b[39;00m\u001b[39m by default \u001b[39m\u001b[39m\"\u001b[39m\n\u001b[1;32m    280\u001b[0m         \u001b[39m\"\u001b[39m\u001b[39mas it is likely to crash IPython. If you know what you are doing, \u001b[39m\u001b[39m\"\u001b[39m\n\u001b[1;32m    281\u001b[0m         \u001b[39m\"\u001b[39m\u001b[39myou can use builtins\u001b[39m\u001b[39m'\u001b[39m\u001b[39m open.\u001b[39m\u001b[39m\"\u001b[39m\n\u001b[1;32m    282\u001b[0m     )\n\u001b[0;32m--> 284\u001b[0m \u001b[39mreturn\u001b[39;00m io_open(file, \u001b[39m*\u001b[39;49margs, \u001b[39m*\u001b[39;49m\u001b[39m*\u001b[39;49mkwargs)\n",
      "\u001b[0;31mFileNotFoundError\u001b[0m: [Errno 2] No such file or directory: '/Users/mjbarrett/Code/lavlab-python-utils/omero_user.txt'"
     ]
    }
   ],
   "source": [
    "import os\n",
    "import sys\n",
    "sys.argv=[\"/Users/mjbarrett/Code/lavlab-python-utils/omero_tagger.ipynb\", \"2414\"]\n",
    "\n",
    "def get_parent_directory():\n",
    "    \"\"\"Get the parent directory of the current script.\n",
    "    \n",
    "    Returns:\n",
    "        str: The parent directory of the current script.\n",
    "    \"\"\"\n",
    "    current_script_path = os.path.abspath(sys.argv[0])  # Get the absolute path of the current script\n",
    "    parent_directory = os.path.dirname(current_script_path)  # Get the directory of the current script\n",
    "    return parent_directory\n",
    "\n",
    "def read_credentials(filename):\n",
    "    \"\"\"Read a file containing a username and password.\n",
    "    \n",
    "    Args:\n",
    "        filename (str): The name of the file to read.\n",
    "    \n",
    "    Returns:\n",
    "        tuple: A tuple containing the username and password.\n",
    "    \"\"\"\n",
    "    with open(filename, 'r') as file:\n",
    "        lines = file.readlines()\n",
    "        username = lines[0].strip()  # Remove any leading/trailing whitespace\n",
    "        password = lines[1].strip()  # Remove any leading/trailing whitespace\n",
    "    \n",
    "    return username, password\n",
    "\n",
    "username, password = read_credentials(get_parent_directory()+os.sep+'omero_user.txt')\n",
    "img_id = sys.argv[1]\n",
    "downsample_factor=10\n",
    "workdir=\".\"\n",
    "skip_upload=False\n",
    "if len(sys.argv) > 2:\n",
    "    downsample_factor = int(sys.argv[2])\n",
    "if len(sys.argv) > 3:\n",
    "    workdir = str(sys.argv[3])\n",
    "if len(sys.argv) > 4:\n",
    "    skip_upload = bool(sys.argv[4])"
   ]
  },
  {
   "cell_type": "code",
   "execution_count": null,
   "metadata": {},
   "outputs": [
    {
     "data": {
      "text/plain": [
       "True"
      ]
     },
     "execution_count": 5,
     "metadata": {},
     "output_type": "execute_result"
    }
   ],
   "source": [
    "from omero.gateway import BlitzGateway\n",
    "conn = BlitzGateway(username, password, host='lavlab.mcw.edu', secure=True)\n",
    "conn.connect()"
   ]
  },
  {
   "cell_type": "code",
   "execution_count": null,
   "metadata": {},
   "outputs": [],
   "source": [
    "img_id=1"
   ]
  },
  {
   "cell_type": "code",
   "execution_count": null,
   "metadata": {},
   "outputs": [],
   "source": [
    "from lavlab.omero_util import getLargeRecon\n",
    "img = conn.getObject('image', img_id)\n",
    "getLargeRecon(img)"
   ]
  }
 ],
 "metadata": {
  "kernelspec": {
   "display_name": "lavlab-native",
   "language": "python",
   "name": "python3"
  },
  "language_info": {
   "codemirror_mode": {
    "name": "ipython",
    "version": 3
   },
   "file_extension": ".py",
   "mimetype": "text/x-python",
   "name": "python",
   "nbconvert_exporter": "python",
   "pygments_lexer": "ipython3",
   "version": "3.9.17"
  },
  "orig_nbformat": 4
 },
 "nbformat": 4,
 "nbformat_minor": 2
}
