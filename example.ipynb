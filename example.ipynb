{
 "cells": [
  {
   "cell_type": "code",
   "execution_count": 4,
   "metadata": {},
   "outputs": [],
   "source": [
    "import keyring\n",
    "from keyrings.alt.file import PlaintextKeyring\n",
    "# plaintext keyring for dev purposes\n",
    "keyring.set_keyring(PlaintextKeyring())\n"
   ]
  },
  {
   "cell_type": "code",
   "execution_count": 10,
   "metadata": {},
   "outputs": [
    {
     "data": {
      "text/plain": [
       "True"
      ]
     },
     "execution_count": 10,
     "metadata": {},
     "output_type": "execute_result"
    }
   ],
   "source": [
    "from omero.gateway import BlitzGateway\n",
    "conn = BlitzGateway('', '', host='wss://wsi.lavlab.mcw.edu/omero-wss', secure=True)\n",
    "conn.connect()"
   ]
  },
  {
   "cell_type": "code",
   "execution_count": null,
   "metadata": {},
   "outputs": [],
   "source": [
    "from concurrent.futures import ThreadPoolExecutor, as_completed\n",
    "import numpy as np\n",
    "import threading\n",
    "tpe = ThreadPoolExecutor(4, 'OMERO_RPS')\n",
    "conn.SERVICE_OPTS.setOmeroGroup('-1')\n",
    "img_obj = conn.getObject('image', 1000)\n",
    "def get_tiles(img, tiles, res_lvl=None, rps_bypass=True, conn=None):\n",
    "    if conn is None:\n",
    "        conn = img._conn\n",
    "    local = threading.local()\n",
    "    def work(pix_id, z, c, t, coord, res_lvl, rps_bypass):\n",
    "        \"\"\"runs inside a threadpool to get multiple tiles at a time\"\"\"\n",
    "        if getattr(local, 'rps', None) is None:\n",
    "            local.rps = conn.c.sf.createRawPixelsStore()\n",
    "            local.rps.setPixelsId(pix_id, rps_bypass)\n",
    "            if res_lvl is None:\n",
    "                res_lvl = local.rps.getResolutionLevels()\n",
    "                res_lvl -= 1\n",
    "            local.rps.setResolutionLevel(res_lvl)\n",
    "            \n",
    "        return local.rps.getTile(z, c, t, *coord), (z, c, t, coord)\n",
    "    def cleanup():\n",
    "        \"\"\"cleans out the raw pixels stores after work is done\"\"\"\n",
    "        if hasattr(local, 'rps'):\n",
    "            local.rps.close()\n",
    "            delattr(local, 'rps')\n",
    "    futures = [tpe.submit(work, img.getPrimaryPixels().getId(), z, c, t, coord, res_lvl, rps_bypass) for z, c, t, coord in tiles]\n",
    "    try:\n",
    "        for future in as_completed(futures):\n",
    "            raw_data, (z,c,t,coord) = future.result()\n",
    "            processed_data = np.frombuffer(raw_data, dtype=np.uint8).reshape(coord[3],coord[2])\n",
    "            yield processed_data, (z,c,t,coord)\n",
    "    finally:\n",
    "        futures = [tpe.submit(cleanup) for x in range(tpe._max_workers)]\n",
    "        for future in as_completed(futures):\n",
    "            future.result()\n",
    "for tile in get_tiles(img_obj, [(0,0,0,(0,0,1024,1024))]*1000):\n",
    "    print(tile)"
   ]
  },
  {
   "cell_type": "code",
   "execution_count": 1,
   "metadata": {},
   "outputs": [
    {
     "name": "stdout",
     "output_type": "stream",
     "text": [
      "ThreadingEnviromentalVariables.PYVIPS\n",
      "VIPS_CONCURRENCY\n"
     ]
    }
   ],
   "source": [
    "import sys\n",
    "from enum import Enum\n",
    "\n",
    "class ThreadingEnviromentalVariables(Enum):\n",
    "    \"\"\"Converts a module name into the environemental variable for controlling max cpu threads.\n",
    "    Used for passing the module thread configurations into dependencies.\n",
    "    \"\"\"\n",
    "    PYVIPS = \"VIPS_CONCURRENCY\"\n",
    "\n",
    "    @staticmethod\n",
    "    def is_module_imported(module_name: str) -> bool:\n",
    "        \"\"\"Checks if a given module is imported by the module's name.\n",
    "        Used to warn users if we are trying to configure a module that is already imported.\n",
    "\n",
    "        :param module_name: name of the given module, ex. \"pyvips\"\n",
    "        :type module_name: str\n",
    "        :return: Bool representing whether the module has already been imported\n",
    "        :rtype: bool\n",
    "        \"\"\"\n",
    "        return module_name in sys.modules\n",
    "print(ThreadingEnviromentalVariables[\"PYVIPS\"])\n",
    "for lib in list(ThreadingEnviromentalVariables):\n",
    "    print(lib.value)"
   ]
  },
  {
   "cell_type": "code",
   "execution_count": 1,
   "metadata": {},
   "outputs": [
    {
     "ename": "ConnectionRefusedException",
     "evalue": "Ice.ConnectionRefusedException:\nConnection refused",
     "output_type": "error",
     "traceback": [
      "\u001b[0;31m---------------------------------------------------------------------------\u001b[0m",
      "\u001b[0;31mConnectionRefusedException\u001b[0m                Traceback (most recent call last)",
      "Cell \u001b[0;32mIn[1], line 3\u001b[0m\n\u001b[1;32m      1\u001b[0m \u001b[38;5;28;01mfrom\u001b[39;00m \u001b[38;5;21;01momero\u001b[39;00m\u001b[38;5;21;01m.\u001b[39;00m\u001b[38;5;21;01mgateway\u001b[39;00m \u001b[38;5;28;01mimport\u001b[39;00m BlitzGateway\n\u001b[1;32m      2\u001b[0m conn \u001b[38;5;241m=\u001b[39m BlitzGateway( \u001b[38;5;124m'\u001b[39m\u001b[38;5;124mpublic\u001b[39m\u001b[38;5;124m'\u001b[39m, \u001b[38;5;124m'\u001b[39m\u001b[38;5;124mpublic\u001b[39m\u001b[38;5;124m'\u001b[39m, host\u001b[38;5;241m=\u001b[39m\u001b[38;5;124m'\u001b[39m\u001b[38;5;124midr.openmicroscopy.org\u001b[39m\u001b[38;5;124m'\u001b[39m)\n\u001b[0;32m----> 3\u001b[0m \u001b[43mconn\u001b[49m\u001b[38;5;241;43m.\u001b[39;49m\u001b[43mconnect\u001b[49m\u001b[43m(\u001b[49m\u001b[43m)\u001b[49m\n",
      "File \u001b[0;32m~/.local/lib/python3.11/site-packages/omero/gateway/__init__.py:2183\u001b[0m, in \u001b[0;36m_BlitzGateway.connect\u001b[0;34m(self, sUuid)\u001b[0m\n\u001b[1;32m   2181\u001b[0m \u001b[38;5;28;01mtry\u001b[39;00m:\n\u001b[1;32m   2182\u001b[0m     logger\u001b[38;5;241m.\u001b[39mdebug(\u001b[38;5;124m\"\u001b[39m\u001b[38;5;124mCreating Session...\u001b[39m\u001b[38;5;124m\"\u001b[39m)\n\u001b[0;32m-> 2183\u001b[0m     \u001b[38;5;28;43mself\u001b[39;49m\u001b[38;5;241;43m.\u001b[39;49m\u001b[43m_createSession\u001b[49m\u001b[43m(\u001b[49m\u001b[43m)\u001b[49m\n\u001b[1;32m   2184\u001b[0m     logger\u001b[38;5;241m.\u001b[39mdebug(\u001b[38;5;124m\"\u001b[39m\u001b[38;5;124mSession created\u001b[39m\u001b[38;5;124m\"\u001b[39m)\n\u001b[1;32m   2185\u001b[0m \u001b[38;5;28;01mexcept\u001b[39;00m omero\u001b[38;5;241m.\u001b[39mSecurityViolation:\n",
      "File \u001b[0;32m~/.local/lib/python3.11/site-packages/omero/gateway/__init__.py:2054\u001b[0m, in \u001b[0;36m_BlitzGateway._createSession\u001b[0;34m(self)\u001b[0m\n\u001b[1;32m   2050\u001b[0m \u001b[38;5;28;01mif\u001b[39;00m \u001b[38;5;28mself\u001b[39m\u001b[38;5;241m.\u001b[39mgroup \u001b[38;5;129;01mis\u001b[39;00m \u001b[38;5;129;01mnot\u001b[39;00m \u001b[38;5;28;01mNone\u001b[39;00m:\n\u001b[1;32m   2051\u001b[0m     \u001b[38;5;66;03m# try something that fails if the user don't have permissions on\u001b[39;00m\n\u001b[1;32m   2052\u001b[0m     \u001b[38;5;66;03m# the group\u001b[39;00m\n\u001b[1;32m   2053\u001b[0m     \u001b[38;5;28mself\u001b[39m\u001b[38;5;241m.\u001b[39mc\u001b[38;5;241m.\u001b[39msf\u001b[38;5;241m.\u001b[39mgetAdminService()\u001b[38;5;241m.\u001b[39mgetEventContext()\n\u001b[0;32m-> 2054\u001b[0m \u001b[38;5;28;43mself\u001b[39;49m\u001b[38;5;241;43m.\u001b[39;49m\u001b[43msetSecure\u001b[49m\u001b[43m(\u001b[49m\u001b[38;5;28;43mself\u001b[39;49m\u001b[38;5;241;43m.\u001b[39;49m\u001b[43msecure\u001b[49m\u001b[43m)\u001b[49m\n\u001b[1;32m   2055\u001b[0m \u001b[38;5;28mself\u001b[39m\u001b[38;5;241m.\u001b[39mc\u001b[38;5;241m.\u001b[39msf\u001b[38;5;241m.\u001b[39mdetachOnDestroy()\n\u001b[1;32m   2056\u001b[0m \u001b[38;5;28mself\u001b[39m\u001b[38;5;241m.\u001b[39mSERVICE_OPTS \u001b[38;5;241m=\u001b[39m \u001b[38;5;28mself\u001b[39m\u001b[38;5;241m.\u001b[39mcreateServiceOptsDict()\n",
      "File \u001b[0;32m~/.local/lib/python3.11/site-packages/omero/gateway/__init__.py:2022\u001b[0m, in \u001b[0;36m_BlitzGateway.setSecure\u001b[0;34m(self, secure)\u001b[0m\n\u001b[1;32m   2020\u001b[0m \u001b[38;5;28;01mif\u001b[39;00m \u001b[38;5;28mhasattr\u001b[39m(\u001b[38;5;28mself\u001b[39m\u001b[38;5;241m.\u001b[39mc, \u001b[38;5;124m'\u001b[39m\u001b[38;5;124mcreateClient\u001b[39m\u001b[38;5;124m'\u001b[39m) \u001b[38;5;129;01mand\u001b[39;00m (secure \u001b[38;5;241m^\u001b[39m \u001b[38;5;28mself\u001b[39m\u001b[38;5;241m.\u001b[39mc\u001b[38;5;241m.\u001b[39misSecure()):\n\u001b[1;32m   2021\u001b[0m     oldC \u001b[38;5;241m=\u001b[39m \u001b[38;5;28mself\u001b[39m\u001b[38;5;241m.\u001b[39mc\n\u001b[0;32m-> 2022\u001b[0m     \u001b[38;5;28mself\u001b[39m\u001b[38;5;241m.\u001b[39mc \u001b[38;5;241m=\u001b[39m \u001b[43moldC\u001b[49m\u001b[38;5;241;43m.\u001b[39;49m\u001b[43mcreateClient\u001b[49m\u001b[43m(\u001b[49m\u001b[43msecure\u001b[49m\u001b[38;5;241;43m=\u001b[39;49m\u001b[43msecure\u001b[49m\u001b[43m)\u001b[49m\n\u001b[1;32m   2023\u001b[0m     oldC\u001b[38;5;241m.\u001b[39m\u001b[38;5;21m__del__\u001b[39m()  \u001b[38;5;66;03m# only needs to be called if previous doesn't throw\u001b[39;00m\n\u001b[1;32m   2024\u001b[0m     \u001b[38;5;28mself\u001b[39m\u001b[38;5;241m.\u001b[39m_createProxies()\n",
      "File \u001b[0;32m~/.local/lib/python3.11/site-packages/omero/clients.py:415\u001b[0m, in \u001b[0;36mBaseClient.createClient\u001b[0;34m(self, secure)\u001b[0m\n\u001b[1;32m    413\u001b[0m nClient\u001b[38;5;241m.\u001b[39m__insecure \u001b[38;5;241m=\u001b[39m \u001b[38;5;129;01mnot\u001b[39;00m secure\n\u001b[1;32m    414\u001b[0m nClient\u001b[38;5;241m.\u001b[39msetAgent(\u001b[38;5;124m\"\u001b[39m\u001b[38;5;132;01m%s\u001b[39;00m\u001b[38;5;124m;secure=\u001b[39m\u001b[38;5;132;01m%s\u001b[39;00m\u001b[38;5;124m\"\u001b[39m \u001b[38;5;241m%\u001b[39m (\u001b[38;5;28mself\u001b[39m\u001b[38;5;241m.\u001b[39m__agent, secure))\n\u001b[0;32m--> 415\u001b[0m \u001b[43mnClient\u001b[49m\u001b[38;5;241;43m.\u001b[39;49m\u001b[43mjoinSession\u001b[49m\u001b[43m(\u001b[49m\u001b[38;5;28;43mself\u001b[39;49m\u001b[38;5;241;43m.\u001b[39;49m\u001b[43mgetSessionId\u001b[49m\u001b[43m(\u001b[49m\u001b[43m)\u001b[49m\u001b[43m)\u001b[49m\n\u001b[1;32m    416\u001b[0m \u001b[38;5;28;01mreturn\u001b[39;00m nClient\n",
      "File \u001b[0;32m~/.local/lib/python3.11/site-packages/omero/clients.py:565\u001b[0m, in \u001b[0;36mBaseClient.joinSession\u001b[0;34m(self, session)\u001b[0m\n\u001b[1;32m    560\u001b[0m \u001b[38;5;28;01mdef\u001b[39;00m \u001b[38;5;21mjoinSession\u001b[39m(\u001b[38;5;28mself\u001b[39m, session):\n\u001b[1;32m    561\u001b[0m \u001b[38;5;250m    \u001b[39m\u001b[38;5;124;03m\"\"\"\u001b[39;00m\n\u001b[1;32m    562\u001b[0m \u001b[38;5;124;03m    Uses the given session uuid as name\u001b[39;00m\n\u001b[1;32m    563\u001b[0m \u001b[38;5;124;03m    and password to rejoin a running session\u001b[39;00m\n\u001b[1;32m    564\u001b[0m \u001b[38;5;124;03m    \"\"\"\u001b[39;00m\n\u001b[0;32m--> 565\u001b[0m     \u001b[38;5;28;01mreturn\u001b[39;00m \u001b[38;5;28;43mself\u001b[39;49m\u001b[38;5;241;43m.\u001b[39;49m\u001b[43mcreateSession\u001b[49m\u001b[43m(\u001b[49m\u001b[43msession\u001b[49m\u001b[43m,\u001b[49m\u001b[43m \u001b[49m\u001b[43msession\u001b[49m\u001b[43m)\u001b[49m\n",
      "File \u001b[0;32m~/.local/lib/python3.11/site-packages/omero/clients.py:625\u001b[0m, in \u001b[0;36mBaseClient.createSession\u001b[0;34m(self, username, password)\u001b[0m\n\u001b[1;32m    623\u001b[0m     ctx[omero\u001b[38;5;241m.\u001b[39mconstants\u001b[38;5;241m.\u001b[39mIP] \u001b[38;5;241m=\u001b[39m \u001b[38;5;28mself\u001b[39m\u001b[38;5;241m.\u001b[39m__ip\n\u001b[1;32m    624\u001b[0m rtr \u001b[38;5;241m=\u001b[39m \u001b[38;5;28mself\u001b[39m\u001b[38;5;241m.\u001b[39mgetRouter(\u001b[38;5;28mself\u001b[39m\u001b[38;5;241m.\u001b[39m__ic)\n\u001b[0;32m--> 625\u001b[0m prx \u001b[38;5;241m=\u001b[39m \u001b[43mrtr\u001b[49m\u001b[38;5;241;43m.\u001b[39;49m\u001b[43mcreateSession\u001b[49m\u001b[43m(\u001b[49m\u001b[43musername\u001b[49m\u001b[43m,\u001b[49m\u001b[43m \u001b[49m\u001b[43mpassword\u001b[49m\u001b[43m,\u001b[49m\u001b[43m \u001b[49m\u001b[43mctx\u001b[49m\u001b[43m)\u001b[49m\n\u001b[1;32m    627\u001b[0m \u001b[38;5;66;03m# Create the adapter\u001b[39;00m\n\u001b[1;32m    628\u001b[0m \u001b[38;5;28mself\u001b[39m\u001b[38;5;241m.\u001b[39m__oa \u001b[38;5;241m=\u001b[39m \u001b[38;5;28mself\u001b[39m\u001b[38;5;241m.\u001b[39m__ic\u001b[38;5;241m.\u001b[39mcreateObjectAdapterWithRouter(\n\u001b[1;32m    629\u001b[0m     \u001b[38;5;124m\"\u001b[39m\u001b[38;5;124momero.ClientCallback\u001b[39m\u001b[38;5;124m\"\u001b[39m, rtr)\n",
      "File \u001b[0;32m~/.local/lib/python3.11/site-packages/Glacier2_Router_ice.py:258\u001b[0m, in \u001b[0;36mRouterPrx.createSession\u001b[0;34m(self, userId, password, _ctx)\u001b[0m\n\u001b[1;32m    257\u001b[0m \u001b[38;5;28;01mdef\u001b[39;00m \u001b[38;5;21mcreateSession\u001b[39m(\u001b[38;5;28mself\u001b[39m, userId, password, _ctx\u001b[38;5;241m=\u001b[39m\u001b[38;5;28;01mNone\u001b[39;00m):\n\u001b[0;32m--> 258\u001b[0m     \u001b[38;5;28;01mreturn\u001b[39;00m \u001b[43m_M_Glacier2\u001b[49m\u001b[38;5;241;43m.\u001b[39;49m\u001b[43mRouter\u001b[49m\u001b[38;5;241;43m.\u001b[39;49m\u001b[43m_op_createSession\u001b[49m\u001b[38;5;241;43m.\u001b[39;49m\u001b[43minvoke\u001b[49m\u001b[43m(\u001b[49m\u001b[38;5;28;43mself\u001b[39;49m\u001b[43m,\u001b[49m\u001b[43m \u001b[49m\u001b[43m(\u001b[49m\u001b[43m(\u001b[49m\u001b[43muserId\u001b[49m\u001b[43m,\u001b[49m\u001b[43m \u001b[49m\u001b[43mpassword\u001b[49m\u001b[43m)\u001b[49m\u001b[43m,\u001b[49m\u001b[43m \u001b[49m\u001b[43m_ctx\u001b[49m\u001b[43m)\u001b[49m\u001b[43m)\u001b[49m\n",
      "\u001b[0;31mConnectionRefusedException\u001b[0m: Ice.ConnectionRefusedException:\nConnection refused"
     ]
    }
   ],
   "source": [
    "import SimpleITK as sitk\n",
    "rad = sitk.ReadImage('T2.nii.gz')\n",
    "rad"
   ]
  },
  {
   "cell_type": "code",
   "execution_count": 4,
   "metadata": {},
   "outputs": [
    {
     "data": {
      "text/plain": [
       "13127699484.0"
      ]
     },
     "execution_count": 4,
     "metadata": {},
     "output_type": "execute_result"
    }
   ],
   "source": [
    "import numpy as np\n",
    "np.sum(rad)"
   ]
  },
  {
   "cell_type": "code",
   "execution_count": 5,
   "metadata": {},
   "outputs": [
    {
     "data": {
      "text/plain": [
       "<pyvips.Image 15828x24250 uchar, 3 bands, srgb>"
      ]
     },
     "execution_count": 5,
     "metadata": {},
     "output_type": "execute_result"
    }
   ],
   "source": [
    "import pyvips as pv\n",
    "hist = pv.Image.new_from_file('large_recon_10_nowhite.tiff')\n",
    "hist"
   ]
  },
  {
   "cell_type": "code",
   "execution_count": 9,
   "metadata": {},
   "outputs": [
    {
     "ename": "Error",
     "evalue": "max does not support optional argument axis\n  ",
     "output_type": "error",
     "traceback": [
      "\u001b[0;31m---------------------------------------------------------------------------\u001b[0m",
      "\u001b[0;31mError\u001b[0m                                     Traceback (most recent call last)",
      "Cell \u001b[0;32mIn[9], line 1\u001b[0m\n\u001b[0;32m----> 1\u001b[0m \u001b[43mnp\u001b[49m\u001b[38;5;241;43m.\u001b[39;49m\u001b[43mmax\u001b[49m\u001b[43m(\u001b[49m\u001b[43mhist\u001b[49m\u001b[43m)\u001b[49m\n",
      "File \u001b[0;32m~/.local/lib/python3.11/site-packages/numpy/core/fromnumeric.py:2810\u001b[0m, in \u001b[0;36mmax\u001b[0;34m(a, axis, out, keepdims, initial, where)\u001b[0m\n\u001b[1;32m   2692\u001b[0m \u001b[38;5;129m@array_function_dispatch\u001b[39m(_max_dispatcher)\n\u001b[1;32m   2693\u001b[0m \u001b[38;5;129m@set_module\u001b[39m(\u001b[38;5;124m'\u001b[39m\u001b[38;5;124mnumpy\u001b[39m\u001b[38;5;124m'\u001b[39m)\n\u001b[1;32m   2694\u001b[0m \u001b[38;5;28;01mdef\u001b[39;00m \u001b[38;5;21mmax\u001b[39m(a, axis\u001b[38;5;241m=\u001b[39m\u001b[38;5;28;01mNone\u001b[39;00m, out\u001b[38;5;241m=\u001b[39m\u001b[38;5;28;01mNone\u001b[39;00m, keepdims\u001b[38;5;241m=\u001b[39mnp\u001b[38;5;241m.\u001b[39m_NoValue, initial\u001b[38;5;241m=\u001b[39mnp\u001b[38;5;241m.\u001b[39m_NoValue,\n\u001b[1;32m   2695\u001b[0m          where\u001b[38;5;241m=\u001b[39mnp\u001b[38;5;241m.\u001b[39m_NoValue):\n\u001b[1;32m   2696\u001b[0m \u001b[38;5;250m    \u001b[39m\u001b[38;5;124;03m\"\"\"\u001b[39;00m\n\u001b[1;32m   2697\u001b[0m \u001b[38;5;124;03m    Return the maximum of an array or maximum along an axis.\u001b[39;00m\n\u001b[1;32m   2698\u001b[0m \n\u001b[0;32m   (...)\u001b[0m\n\u001b[1;32m   2808\u001b[0m \u001b[38;5;124;03m    5\u001b[39;00m\n\u001b[1;32m   2809\u001b[0m \u001b[38;5;124;03m    \"\"\"\u001b[39;00m\n\u001b[0;32m-> 2810\u001b[0m     \u001b[38;5;28;01mreturn\u001b[39;00m \u001b[43m_wrapreduction\u001b[49m\u001b[43m(\u001b[49m\u001b[43ma\u001b[49m\u001b[43m,\u001b[49m\u001b[43m \u001b[49m\u001b[43mnp\u001b[49m\u001b[38;5;241;43m.\u001b[39;49m\u001b[43mmaximum\u001b[49m\u001b[43m,\u001b[49m\u001b[43m \u001b[49m\u001b[38;5;124;43m'\u001b[39;49m\u001b[38;5;124;43mmax\u001b[39;49m\u001b[38;5;124;43m'\u001b[39;49m\u001b[43m,\u001b[49m\u001b[43m \u001b[49m\u001b[43maxis\u001b[49m\u001b[43m,\u001b[49m\u001b[43m \u001b[49m\u001b[38;5;28;43;01mNone\u001b[39;49;00m\u001b[43m,\u001b[49m\u001b[43m \u001b[49m\u001b[43mout\u001b[49m\u001b[43m,\u001b[49m\n\u001b[1;32m   2811\u001b[0m \u001b[43m                          \u001b[49m\u001b[43mkeepdims\u001b[49m\u001b[38;5;241;43m=\u001b[39;49m\u001b[43mkeepdims\u001b[49m\u001b[43m,\u001b[49m\u001b[43m \u001b[49m\u001b[43minitial\u001b[49m\u001b[38;5;241;43m=\u001b[39;49m\u001b[43minitial\u001b[49m\u001b[43m,\u001b[49m\u001b[43m \u001b[49m\u001b[43mwhere\u001b[49m\u001b[38;5;241;43m=\u001b[39;49m\u001b[43mwhere\u001b[49m\u001b[43m)\u001b[49m\n",
      "File \u001b[0;32m~/.local/lib/python3.11/site-packages/numpy/core/fromnumeric.py:86\u001b[0m, in \u001b[0;36m_wrapreduction\u001b[0;34m(obj, ufunc, method, axis, dtype, out, **kwargs)\u001b[0m\n\u001b[1;32m     84\u001b[0m             \u001b[38;5;28;01mreturn\u001b[39;00m reduction(axis\u001b[38;5;241m=\u001b[39maxis, dtype\u001b[38;5;241m=\u001b[39mdtype, out\u001b[38;5;241m=\u001b[39mout, \u001b[38;5;241m*\u001b[39m\u001b[38;5;241m*\u001b[39mpasskwargs)\n\u001b[1;32m     85\u001b[0m         \u001b[38;5;28;01melse\u001b[39;00m:\n\u001b[0;32m---> 86\u001b[0m             \u001b[38;5;28;01mreturn\u001b[39;00m \u001b[43mreduction\u001b[49m\u001b[43m(\u001b[49m\u001b[43maxis\u001b[49m\u001b[38;5;241;43m=\u001b[39;49m\u001b[43maxis\u001b[49m\u001b[43m,\u001b[49m\u001b[43m \u001b[49m\u001b[43mout\u001b[49m\u001b[38;5;241;43m=\u001b[39;49m\u001b[43mout\u001b[49m\u001b[43m,\u001b[49m\u001b[43m \u001b[49m\u001b[38;5;241;43m*\u001b[39;49m\u001b[38;5;241;43m*\u001b[39;49m\u001b[43mpasskwargs\u001b[49m\u001b[43m)\u001b[49m\n\u001b[1;32m     88\u001b[0m \u001b[38;5;28;01mreturn\u001b[39;00m ufunc\u001b[38;5;241m.\u001b[39mreduce(obj, axis, dtype, out, \u001b[38;5;241m*\u001b[39m\u001b[38;5;241m*\u001b[39mpasskwargs)\n",
      "File \u001b[0;32m~/.local/lib/python3.11/site-packages/pyvips/vimage.py:1347\u001b[0m, in \u001b[0;36mImage.__getattr__.<locals>.call_function\u001b[0;34m(*args, **kwargs)\u001b[0m\n\u001b[1;32m   1345\u001b[0m \u001b[38;5;129m@_add_doc\u001b[39m(name)\n\u001b[1;32m   1346\u001b[0m \u001b[38;5;28;01mdef\u001b[39;00m \u001b[38;5;21mcall_function\u001b[39m(\u001b[38;5;241m*\u001b[39margs, \u001b[38;5;241m*\u001b[39m\u001b[38;5;241m*\u001b[39mkwargs):\n\u001b[0;32m-> 1347\u001b[0m     \u001b[38;5;28;01mreturn\u001b[39;00m \u001b[43mpyvips\u001b[49m\u001b[38;5;241;43m.\u001b[39;49m\u001b[43mOperation\u001b[49m\u001b[38;5;241;43m.\u001b[39;49m\u001b[43mcall\u001b[49m\u001b[43m(\u001b[49m\u001b[43mname\u001b[49m\u001b[43m,\u001b[49m\u001b[43m \u001b[49m\u001b[38;5;28;43mself\u001b[39;49m\u001b[43m,\u001b[49m\u001b[43m \u001b[49m\u001b[38;5;241;43m*\u001b[39;49m\u001b[43margs\u001b[49m\u001b[43m,\u001b[49m\u001b[43m \u001b[49m\u001b[38;5;241;43m*\u001b[39;49m\u001b[38;5;241;43m*\u001b[39;49m\u001b[43mkwargs\u001b[49m\u001b[43m)\u001b[49m\n",
      "File \u001b[0;32m~/.local/lib/python3.11/site-packages/pyvips/voperation.py:288\u001b[0m, in \u001b[0;36mOperation.call\u001b[0;34m(operation_name, *args, **kwargs)\u001b[0m\n\u001b[1;32m    285\u001b[0m \u001b[38;5;28;01mfor\u001b[39;00m name \u001b[38;5;129;01min\u001b[39;00m kwargs:\n\u001b[1;32m    286\u001b[0m     \u001b[38;5;28;01mif\u001b[39;00m (name \u001b[38;5;129;01mnot\u001b[39;00m \u001b[38;5;129;01min\u001b[39;00m intro\u001b[38;5;241m.\u001b[39moptional_input \u001b[38;5;129;01mand\u001b[39;00m\n\u001b[1;32m    287\u001b[0m             name \u001b[38;5;129;01mnot\u001b[39;00m \u001b[38;5;129;01min\u001b[39;00m intro\u001b[38;5;241m.\u001b[39moptional_output):\n\u001b[0;32m--> 288\u001b[0m         \u001b[38;5;28;01mraise\u001b[39;00m Error(\u001b[38;5;124m'\u001b[39m\u001b[38;5;132;01m{0}\u001b[39;00m\u001b[38;5;124m does not support optional argument \u001b[39m\u001b[38;5;132;01m{1}\u001b[39;00m\u001b[38;5;124m'\u001b[39m\n\u001b[1;32m    289\u001b[0m                     \u001b[38;5;241m.\u001b[39mformat(operation_name, name))\n\u001b[1;32m    291\u001b[0m     value \u001b[38;5;241m=\u001b[39m kwargs[name]\n\u001b[1;32m    292\u001b[0m     details \u001b[38;5;241m=\u001b[39m intro\u001b[38;5;241m.\u001b[39mdetails[name]\n",
      "\u001b[0;31mError\u001b[0m: max does not support optional argument axis\n  "
     ]
    }
   ],
   "source": [
    "np.max(hist)"
   ]
  },
  {
   "cell_type": "code",
   "execution_count": 18,
   "metadata": {},
   "outputs": [
    {
     "data": {
      "image/png": "[encoded data removed]",
      "text/plain": [
       "<Figure size 640x480 with 1 Axes>"
      ]
     },
     "metadata": {},
     "output_type": "display_data"
    }
   ],
   "source": [
    "import pyvips as pv\n",
    "import matplotlib.pyplot as plt\n",
    "import numpy as np\n",
    "from typing import Union\n",
    "\n",
    "\n",
    "def draw_shapes(\n",
    "    img: Union[np.ndarray, pv.Image],\n",
    "    shape_points: list[tuple[int, tuple[int, int, int], list[tuple[int, int]]]],\n",
    ") -> Union[np.ndarray, pv.Image]:\n",
    "    \"\"\"\n",
    "    Draws a list of shape points onto the input image using PyVips with SVG.\n",
    "\n",
    "    .. warning::\n",
    "       No safety checks! Make sure img and shape_points are for the same downsample factor!\n",
    "\n",
    "    :param img: Input image as a NumPy array or pyvips Image.\n",
    "    :type img: Union[np.ndarray, pyvips.Image]\n",
    "    :param shape_points: List of tuples containing shape ID, RGB color, and list of points.\n",
    "                         Expected to use output from lavlab.omero_util.getShapesAsPoints.\n",
    "    :type shape_points: List[Tuple[int, Tuple[int, int, int], List[Tuple[int, int]]]]\n",
    "    :returns: Modified image with shapes drawn, same type as input.\n",
    "    :rtype: Union[np.ndarray, pyvips.Image]\n",
    "    \"\"\"\n",
    "    if isinstance(img, np.ndarray):\n",
    "        # Convert numpy array to pyvips Image\n",
    "        img = pv.Image.new_from_array(img)\n",
    "\n",
    "    width = img.width\n",
    "    height = img.height\n",
    "\n",
    "    svg_header = (\n",
    "        f'<svg viewBox=\"0 0 {width} {height}\" '\n",
    "        f'xmlns=\"http://www.w3.org/2000/svg\" '\n",
    "        f'shape-rendering=\"crispEdges\">'\n",
    "    )\n",
    "    svg_shapes = \"\"\n",
    "\n",
    "    for _, rgb, xy in shape_points:\n",
    "        hex_color = f'#{rgb[0]:02x}{rgb[1]:02x}{rgb[2]:02x}'\n",
    "        points = \" \".join([f\"{x},{y}\" for y, x in xy])\n",
    "        svg_shapes += f'<polygon points=\"{points}\" fill=\"{hex_color}\"/>'\n",
    "\n",
    "    svg_footer = '</svg>'\n",
    "    svg = svg_header + svg_shapes + svg_footer\n",
    "    svg_img = pv.Image.svgload_buffer(svg.encode('utf-8'))\n",
    "\n",
    "    # Composite the SVG image over the original image\n",
    "    composite_img = img.composite2(svg_img, 'over', x=0, y=0)\n",
    "\n",
    "    # Return the modified image in the same type as the input\n",
    "    if isinstance(img, np.ndarray):\n",
    "        return composite_img.numpy()\n",
    "    else:\n",
    "        return composite_img\n",
    "# Define the SVG data for a filled polygon\n",
    "svg_data = \"\"\"\n",
    "<svg viewBox=\"0 0 100 100\" xmlns=\"http://www.w3.org/2000/svg\">\n",
    "  <polygon points=\"50,10 90,90 10,90\" fill=\"#009900\"/>\n",
    "</svg>\n",
    "\"\"\"\n",
    "\n",
    "# Load the SVG data into a pyvips image\n",
    "image = pv.Image.svgload_buffer(svg_data.encode('utf-8'))\n",
    "image = image.resize(10)\n",
    "\n",
    "# Convert the pyvips image to a NumPy array\n",
    "np_image = np.ndarray(buffer=image.write_to_memory(),\n",
    "                      dtype=np.uint8,\n",
    "                      shape=[image.height, image.width, image.bands])\n",
    "\n",
    "img = np.ones((100, 100, 3), dtype=np.uint8) * 255\n",
    "shapes = [\n",
    "    (1, (255, 0, 0), [(10, 10), (20, 20), (10, 30)]),\n",
    "    (2, (0, 255, 0), [(50, 50), (60, 60), (50, 70)]),\n",
    "]\n",
    "modified_img = draw_shapes(img, shapes)\n",
    "# Display the image using matplotlib\n",
    "plt.imshow(modified_img)\n",
    "plt.axis('off')  # Hide the axes\n",
    "plt.show()\n"
   ]
  },
  {
   "cell_type": "code",
   "execution_count": null,
   "metadata": {},
   "outputs": [],
   "source": [
    "import numpy as np\n",
    "import pyvips\n",
    "\n",
    "def apply_mask(img: np.ndarray, mask: np.ndarray) -> np.ndarray:\n",
    "    \"\"\"\n",
    "    Applies a binary mask to an image using PyVips.\n",
    "\n",
    "    Parameters\n",
    "    ----------\n",
    "    img : np.ndarray\n",
    "        Image as a NumPy array.\n",
    "    mask : np.ndarray\n",
    "        Binary mask as a NumPy array (same dimensions as img).\n",
    "\n",
    "    Returns\n",
    "    -------\n",
    "    np.ndarray\n",
    "        Image with the mask applied.\n",
    "    \"\"\"\n",
    "    assert isinstance(img, np.ndarray), \"img must be a numpy.ndarray\"\n",
    "    assert isinstance(mask, np.ndarray), \"mask must be a numpy.ndarray\"\n",
    "\n",
    "    # Convert numpy arrays to pyvips images\n",
    "    vips_img = pyvips.Image.new_from_array(img)\n",
    "    vips_mask = pyvips.Image.new_from_array(mask)\n",
    "\n",
    "    # Create a masked image using PyVips\n",
    "    masked_img = vips_img * vips_mask\n",
    "\n",
    "    # Convert the PyVips image back to a numpy array\n",
    "    return masked_img.numpy()\n",
    "\n",
    "# Example usage\n",
    "img = np.random.randint(0, 255, (100, 100, 3), dtype=np.uint8)\n",
    "mask = np.zeros((100, 100, 3), dtype=np.uint8)\n",
    "mask[25:75, 25:75, :] = 1  # Create a square mask\n",
    "masked_img = apply_mask(img, mask)\n",
    "plt.imshow(masked_img)\n",
    "plt.axis('off')  # Hide the axes\n",
    "plt.show()\n"
   ]
  },
  {
   "cell_type": "code",
   "execution_count": 1,
   "metadata": {},
   "outputs": [
    {
     "data": {
      "text/plain": [
       "True"
      ]
     },
     "execution_count": 1,
     "metadata": {},
     "output_type": "execute_result"
    }
   ],
   "source": [
    "from omero.gateway import BlitzGateway\n",
    "conn = BlitzGateway('', '', host='wss://wsi.lavlab.mcw.edu/omero-wss', secure=True)\n",
    "conn.connect()"
   ]
  },
  {
   "cell_type": "code",
   "execution_count": null,
   "metadata": {},
   "outputs": [],
   "source": [
    "!pip3 install -U ipywidgets==7.7.1 pycairo mplcairo"
   ]
  },
  {
   "cell_type": "code",
   "execution_count": null,
   "metadata": {},
   "outputs": [],
   "source": [
    "import numpy as np\n",
    "import matplotlib.pyplot as plt\n",
    "import ipywidgets as ipyw\n",
    "%matplotlib widget\n",
    "\n",
    "class ImageSliceViewer3D:\n",
    "    orient = {\"y-z\": [1, 2, 0], \"z-x\": [2, 0, 1], \"x-y\": [0, 1, 2]}\n",
    "    \n",
    "    def __init__(self, volume, figsize=(8, 8), cmap='plasma', downsample_rate=1):\n",
    "        # Downsample and convert the volume to uint8\n",
    "        self.volume = ((volume[::downsample_rate, ::downsample_rate, ::downsample_rate] - volume.min()) /\n",
    "                       (volume.ptp()) * 255).astype(np.uint8)\n",
    "        self.figsize = figsize\n",
    "        self.cmap = cmap\n",
    "        self.v = [np.min(self.volume), np.max(self.volume)]\n",
    "\n",
    "        # Radio buttons for selecting the slice plane\n",
    "        self.view_widget = ipyw.RadioButtons(\n",
    "            options=['x-y', 'y-z', 'z-x'], value='x-y',\n",
    "            description='Slice plane selection:', disabled=False,\n",
    "            style={'description_width': 'initial'})\n",
    "\n",
    "        # Slider for selecting the slice within the selected plane\n",
    "        self.slice_slider = ipyw.IntSlider(min=0, max=self.volume.shape[2]-1, step=1,\n",
    "                                           continuous_update=True, description='Image Slice:')\n",
    "\n",
    "        # Display widgets\n",
    "        display(self.view_widget, self.slice_slider)\n",
    "\n",
    "        # Register event handlers\n",
    "        self.view_widget.observe(self.update_view, names='value')\n",
    "        self.slice_slider.observe(self.update_slice, names='value')\n",
    "\n",
    "        # Initialize the plot\n",
    "        self.fig, self.ax = plt.subplots(figsize=self.figsize)\n",
    "        self.img = self.ax.imshow(self.get_slice('x-y', 0), cmap=self.cmap, vmin=self.v[0], vmax=self.v[1])\n",
    "        self.cbar = self.fig.colorbar(self.img, ax=self.ax)\n",
    "        self.ax.set_title('x-y - Slice 0')\n",
    "        self.update_view({'new': self.view_widget.value})\n",
    "\n",
    "    def get_slice(self, view, z):\n",
    "        vol = np.transpose(self.volume, self.orient[view])\n",
    "        return vol[:, :, z]\n",
    "\n",
    "    def update_view(self, change):\n",
    "        view = change['new']\n",
    "        self.current_view = view\n",
    "        self.slice_slider.max = self.volume.shape[self.orient[self.current_view][2]] - 1\n",
    "        self.slice_slider.value = 0  # Reset slider to show the first slice\n",
    "        self.update_slice({'new': self.slice_slider.value})\n",
    "\n",
    "    def update_slice(self, change):\n",
    "        z = change['new']\n",
    "        self.img.set_data(self.get_slice(self.current_view, z))\n",
    "        self.ax.set_title(f'{self.current_view} - Slice {z}')\n",
    "        self.img.set_clim(self.v[0], self.v[1])  # Predefined color limits\n",
    "        self.fig.canvas.draw_idle()\n",
    "\n",
    "x = np.random.rand(512,512,36)\n",
    "\n",
    "ImageSliceViewer3D(x)"
   ]
  },
  {
   "cell_type": "code",
   "execution_count": null,
   "metadata": {},
   "outputs": [],
   "source": [
    "import numpy as np\n",
    "import matplotlib.pyplot as plt\n",
    "import ipywidgets as ipyw\n",
    "\n",
    "# Use `%matplotlib inline` for static plots\n",
    "# %matplotlib inline\n",
    "\n",
    "class ImageSliceViewer3D:\n",
    "    orient = {\"y-z\": [1, 2, 0], \"z-x\": [2, 0, 1], \"x-y\": [0, 1, 2]}\n",
    "    def __init__(self, volume, figsize=(8, 8), cmap='plasma', downsample_rate=1):  # More aggressive downsampling\n",
    "        # Downsample and convert the volume to uint8\n",
    "        self.volume = ((volume[::downsample_rate, ::downsample_rate, ::downsample_rate] - volume.min()) / \n",
    "                       (volume.ptp()) * 255).astype(np.uint8)\n",
    "        self.figsize = figsize\n",
    "        self.cmap = cmap\n",
    "        self.v = [np.min(self.volume), np.max(self.volume)]\n",
    "\n",
    "        # Radio buttons for selecting the slice plane\n",
    "        self.view_widget = ipyw.RadioButtons(\n",
    "            options=['x-y', 'y-z', 'z-x'], value='x-y',\n",
    "            description='Slice plane selection:', disabled=False,\n",
    "            style={'description_width': 'initial'})\n",
    "\n",
    "        # Slider for selecting the slice within the selected plane\n",
    "        self.slice_slider = ipyw.IntSlider(min=0, max=self.volume.shape[2]-1, step=1,\n",
    "                                           continuous_update=True, description='Image Slice:')\n",
    "\n",
    "        # Output widget for displaying the image\n",
    "        self.out = ipyw.Output()\n",
    "\n",
    "        # Display widgets\n",
    "        display(self.view_widget, self.slice_slider, self.out)\n",
    "\n",
    "        # Register event handlers\n",
    "        self.view_widget.observe(self.update_view, names='value')\n",
    "        self.slice_slider.observe(self.update_slice, names='value')\n",
    "\n",
    "        # Initialize the plot\n",
    "        self.fig, self.ax = plt.subplots(figsize=self.figsize)\n",
    "        self.img = self.ax.imshow(self.get_slice('x-y', 0), cmap=self.cmap, vmin=self.v[0], vmax=self.v[1])\n",
    "        self.cbar = self.fig.colorbar(self.img, ax=self.ax)\n",
    "        self.ax.set_title('x-y - Slice 0')\n",
    "        self.update_view({'new': self.view_widget.value})\n",
    "\n",
    "    def get_slice(self, view, z):\n",
    "        vol = np.transpose(self.volume, self.orient[view])\n",
    "        return vol[:, :, z]\n",
    "\n",
    "    def update_view(self, change):\n",
    "        view = change['new']\n",
    "        self.current_view = view\n",
    "        self.slice_slider.max = self.volume.shape[self.orient[self.current_view][2]] - 1\n",
    "        self.slice_slider.value = 0  # Reset slider to show the first slice\n",
    "        self.update_slice({'new': self.slice_slider.value})\n",
    "\n",
    "    def update_slice(self, change):\n",
    "        z = change['new']\n",
    "        self.img.set_data(self.get_slice(self.current_view, z))\n",
    "        self.ax.set_title(f'{self.current_view} - Slice {z}')\n",
    "        self.ax.set_xlim(0, self.img.get_array().shape[1])  # Predefined x-axis limits\n",
    "        self.ax.set_ylim(self.img.get_array().shape[0], 0)  # Predefined y-axis limits\n",
    "        self.img.set_clim(self.v[0], self.v[1])  # Predefined color limits\n",
    "        self.fig.canvas.draw_idle()\n",
    "\n",
    "# Create a 3D array with random numbers\n",
    "x = np.random.rand(256,256,96)\n",
    "\n",
    "ImageSliceViewer3D(x)"
   ]
  },
  {
   "cell_type": "code",
   "execution_count": null,
   "metadata": {},
   "outputs": [],
   "source": [
    "# %config InlineBackend.figure_format = 'retina'\n",
    "import numpy as np\n",
    "import matplotlib.pyplot as plt\n",
    "import ipywidgets as ipyw\n",
    "\n",
    "# Use `%matplotlib inline` for static plots\n",
    "# %matplotlib inline\n",
    "\n",
    "class ImageSliceViewer3D:\n",
    "    orient = {\"y-z\": [1, 2, 0], \"z-x\": [2, 0, 1], \"x-y\": [0, 1, 2]}\n",
    "    def __init__(self, volume, figsize=(8, 8), cmap='plasma', downsample_rate=1):\n",
    "        # Downsample and convert the volume to uint8\n",
    "        self.volume = ((volume[::downsample_rate, ::downsample_rate, ::downsample_rate] - volume.min()) / \n",
    "                       (volume.ptp()) * 255).astype(np.uint8)\n",
    "        self.figsize = figsize\n",
    "        self.cmap = cmap\n",
    "        self.v = [np.min(self.volume), np.max(self.volume)]\n",
    "\n",
    "        # Radio buttons for selecting the slice plane\n",
    "        self.view_widget = ipyw.RadioButtons(\n",
    "            options=['x-y', 'y-z', 'z-x'], value='x-y',\n",
    "            description='Slice plane selection:', disabled=False,\n",
    "            style={'description_width': 'initial'})\n",
    "\n",
    "        # Slider for selecting the slice within the selected plane\n",
    "        self.slice_slider = ipyw.IntSlider(min=0, max=self.volume.shape[2]-1, step=1,\n",
    "                                           continuous_update=True, description='Image Slice:')\n",
    "\n",
    "        # Output widget for displaying the image\n",
    "        self.out = ipyw.Output()\n",
    "\n",
    "        # Display widgets\n",
    "        display(self.view_widget, self.slice_slider, self.out)\n",
    "\n",
    "        # Register event handlers\n",
    "        self.view_widget.observe(self.update_view, names='value')\n",
    "        self.slice_slider.observe(self.update_slice, names='value')\n",
    "\n",
    "        # Initialize the view\n",
    "        self.update_view({'new': self.view_widget.value})\n",
    "\n",
    "    def get_slice(self, view, z):\n",
    "        vol = np.transpose(self.volume, self.orient[view])\n",
    "        return vol[:, :, z]\n",
    "\n",
    "    def update_view(self, change):\n",
    "        view = change['new']\n",
    "        self.current_view = view\n",
    "        self.slice_slider.max = self.volume.shape[self.orient[self.current_view][2]] - 1\n",
    "        self.slice_slider.value = 0  # Reset slider to show the first slice\n",
    "        self.update_slice({'new': self.slice_slider.value})\n",
    "\n",
    "    def update_slice(self, change):\n",
    "        z = change['new']\n",
    "        with self.out:\n",
    "            self.out.clear_output(wait=True)\n",
    "            plt.figure(figsize=self.figsize)\n",
    "            plt.imshow(self.get_slice(self.current_view, z), cmap=self.cmap, vmin=self.v[0], vmax=self.v[1])\n",
    "            plt.colorbar()\n",
    "            plt.show()\n",
    "\n",
    "\n",
    "\n",
    "\n",
    "\n",
    "# Create a 3D array with random numbers\n",
    "x = np.random.rand(256,256,96)\n",
    "\n",
    "ImageSliceViewer3D(x)"
   ]
  },
  {
   "cell_type": "code",
   "execution_count": null,
   "metadata": {},
   "outputs": [],
   "source": [
    "import matplotlib.pyplot as plt\n",
    "import numpy as np\n",
    "from matplotlib.widgets import Slider, Button\n",
    "%matplotlib widget\n",
    "\n",
    "# Generate 3D data (you would replace this with your actual 3D image data)\n",
    "volume_data = np.random.rand(100, 100, 100)\n",
    "\n",
    "# Define initial parameters\n",
    "init_slice = volume_data.shape[0] // 2  # Initial slice index\n",
    "\n",
    "# Create the figure and the image slice that we will manipulate\n",
    "fig, ax = plt.subplots()\n",
    "current_slice = volume_data[init_slice, :, :]\n",
    "im = ax.imshow(current_slice, cmap='gray', interpolation='nearest')\n",
    "\n",
    "# adjust the main plot to make room for the slider\n",
    "fig.subplots_adjust(left=0.25, bottom=0.25)\n",
    "\n",
    "# Make a slider to control the slice index\n",
    "ax_slice = fig.add_axes([0.25, 0.1, 0.65, 0.03])\n",
    "slice_slider = Slider(\n",
    "    ax=ax_slice,\n",
    "    label='Slice',\n",
    "    valmin=0,\n",
    "    valmax=volume_data.shape[0] - 1,\n",
    "    valinit=init_slice,\n",
    "    valfmt='%d'\n",
    ")\n",
    "\n",
    "# The function to be called anytime the slider's value changes\n",
    "def update(val):\n",
    "    slice_index = int(slice_slider.val)\n",
    "    current_slice = volume_data[slice_index, :, :]\n",
    "    im.set_data(current_slice)\n",
    "    fig.canvas.draw_idle()\n",
    "\n",
    "# Register the update function with the slider\n",
    "slice_slider.on_changed(update)\n",
    "\n",
    "# Create a button to reset the slice index to initial value\n",
    "reset_ax = fig.add_axes([0.8, 0.025, 0.1, 0.04])\n",
    "reset_button = Button(reset_ax, 'Reset', hovercolor='0.975')\n",
    "\n",
    "def reset(event):\n",
    "    slice_slider.reset()\n",
    "reset_button.on_clicked(reset)\n",
    "\n",
    "plt.show()\n"
   ]
  },
  {
   "cell_type": "code",
   "execution_count": 7,
   "metadata": {},
   "outputs": [
    {
     "data": {
      "application/vnd.jupyter.widget-view+json": {
       "model_id": "e4688d4d73e4415292fd695ca1948b96",
       "version_major": 2,
       "version_minor": 0
      },
      "text/plain": [
       "VBox(children=(Output(), HBox(children=(IntSlider(value=0, description='Image 1:', max=35), IntSlider(value=0,…"
      ]
     },
     "metadata": {},
     "output_type": "display_data"
    },
    {
     "data": {
      "text/plain": [
       "<__main__.MultiImageSliceViewer3D at 0x7f37db122550>"
      ]
     },
     "execution_count": 7,
     "metadata": {},
     "output_type": "execute_result"
    }
   ],
   "source": [
    "import numpy as np\n",
    "import matplotlib.pyplot as plt\n",
    "import ipywidgets as ipyw\n",
    "from ipywidgets import VBox, HBox\n",
    "import matplotlib.animation as animation\n",
    "%matplotlib widget\n",
    "\n",
    "class MultiImageSliceViewer3D:\n",
    "    \"\"\"Allows thumbing through multiple volumes' slices interactively, with the ability to lock the views.\"\"\"\n",
    "    \n",
    "    def __init__(self, volumes, figsize=(6, 6), cmap='plasma', downsample_rate=1):\n",
    "        self.volumes = [((vol[::downsample_rate, ::downsample_rate, ::downsample_rate] - vol.min()) /\n",
    "                         vol.ptp() * 255).astype(np.uint8) for vol in volumes]\n",
    "        self.figsize = figsize\n",
    "        self.cmap = cmap\n",
    "        self.num_images = len(self.volumes)\n",
    "        self.v = [np.min([np.min(vol) for vol in self.volumes]), np.max([np.max(vol) for vol in self.volumes])]\n",
    "        self.lock_views = False\n",
    "        self.previous_slice_indices = [0] * self.num_images\n",
    "\n",
    "        self.slice_sliders = []\n",
    "        self.axs = []\n",
    "        self.imgs = []\n",
    "\n",
    "        self.fig, axs = plt.subplots(1, self.num_images, figsize=(self.figsize[0] * self.num_images, self.figsize[1]))\n",
    "        \n",
    "        if not isinstance(axs, np.ndarray):\n",
    "            axs = [axs]\n",
    "\n",
    "        for i, vol in enumerate(self.volumes):\n",
    "            slider = ipyw.IntSlider(min=0, max=vol.shape[2]-1, step=1, continuous_update=True, description=f'Image {i+1}:')\n",
    "            self.slice_sliders.append(slider)\n",
    "\n",
    "            ax = axs[i]\n",
    "            self.axs.append(ax)\n",
    "\n",
    "            img = ax.imshow(self._get_slice(vol, 0), cmap=self.cmap, vmin=self.v[0], vmax=self.v[1])\n",
    "            self.imgs.append(img)\n",
    "            self.fig.colorbar(img, ax=ax)\n",
    "            ax.set_title(f'Image {i+1} - Slice 0')\n",
    "\n",
    "        self.out = ipyw.Output()\n",
    "        with self.out:\n",
    "            plt.show()\n",
    "\n",
    "        self.lock_checkbox = ipyw.Checkbox(value=False, description='Lock Views')\n",
    "\n",
    "        sliders_box = HBox([slider for slider in self.slice_sliders])\n",
    "        display(VBox([self.out, sliders_box, self.lock_checkbox]))\n",
    "\n",
    "        for slider in self.slice_sliders:\n",
    "            slider.observe(self._update_slices, names='value')\n",
    "\n",
    "        self.lock_checkbox.observe(self._toggle_lock, names='value')\n",
    "\n",
    "        # Connect events to synchronize zoom and pan\n",
    "        self.fig.canvas.mpl_connect('button_release_event', self._sync_axes)\n",
    "        self.fig.canvas.mpl_connect('motion_notify_event', self._sync_axes)\n",
    "\n",
    "    def _get_slice(self, volume, z):\n",
    "        return volume[:, :, z]\n",
    "\n",
    "    def _update_slices(self, change):\n",
    "        slider_index = self.slice_sliders.index(change['owner'])\n",
    "        new_index = change['new']\n",
    "        relative_change = new_index - self.previous_slice_indices[slider_index]\n",
    "        self.previous_slice_indices[slider_index] = new_index\n",
    "\n",
    "        for i, vol in enumerate(self.volumes):\n",
    "            if self.lock_views and i != slider_index:\n",
    "                self.slice_sliders[i].unobserve(self._update_slices, names='value')\n",
    "                new_slider_value = self.slice_sliders[i].value + relative_change\n",
    "                new_slider_value = np.clip(new_slider_value, 0, self.slice_sliders[i].max)\n",
    "                self.slice_sliders[i].value = new_slider_value\n",
    "                self.slice_sliders[i].observe(self._update_slices, names='value')\n",
    "\n",
    "            with self.out:\n",
    "                self.imgs[i].set_data(self._get_slice(vol, self.slice_sliders[i].value))\n",
    "                self.axs[i].set_title(f'Image {i+1} - Slice {self.slice_sliders[i].value}')\n",
    "                self.imgs[i].set_clim(self.v[0], self.v[1])  # Predefined color limits\n",
    "\n",
    "        self.fig.canvas.draw_idle()\n",
    "\n",
    "    def _toggle_lock(self, change):\n",
    "        self.lock_views = change['new']\n",
    "\n",
    "    def _sync_axes(self, event):\n",
    "        if not self.lock_views or event.inaxes is None:\n",
    "            return\n",
    "        \n",
    "        for ax in self.axs:\n",
    "            if ax is not event.inaxes:\n",
    "                ax.set_xlim(event.inaxes.get_xlim())\n",
    "                ax.set_ylim(event.inaxes.get_ylim())\n",
    "        self.fig.canvas.draw_idle()\n",
    "\n",
    "\n",
    "# Example usage\n",
    "x = [np.random.rand(256, 256, 36), np.random.rand(256, 256, 36)]\n",
    "MultiImageSliceViewer3D(x)\n"
   ]
  },
  {
   "cell_type": "code",
   "execution_count": null,
   "metadata": {},
   "outputs": [],
   "source": [
    "import numpy as np\n",
    "import matplotlib.pyplot as plt\n",
    "import ipywidgets as ipyw\n",
    "from ipywidgets import VBox\n",
    "from IPython.display import display\n",
    "%matplotlib widget\n",
    "\n",
    "class ImageSliceViewer3D:\n",
    "    def __init__(self, volume, figsize=(8, 8), cmap='plasma', downsample_rate=1):\n",
    "        # Downsample and convert the volume to uint8\n",
    "        self.volume = ((volume[::downsample_rate, ::downsample_rate, ::downsample_rate] - volume.min()) /\n",
    "                       (volume.ptp()) * 255).astype(np.uint8)\n",
    "        self.figsize = figsize\n",
    "        self.cmap = cmap\n",
    "        self.v = [np.min(self.volume), np.max(self.volume)]\n",
    "\n",
    "        # Slider for selecting the slice within the selected plane\n",
    "        self.slice_slider = ipyw.IntSlider(min=0, max=self.volume.shape[2]-1, step=1,\n",
    "                                           continuous_update=True, description='Image Slice:')\n",
    "\n",
    "        # Initialize the plot\n",
    "        self.fig, self.ax = plt.subplots(figsize=self.figsize)\n",
    "        self.img = self.ax.imshow(self.get_slice(0), cmap=self.cmap, vmin=self.v[0], vmax=self.v[1])\n",
    "        self.cbar = self.fig.colorbar(self.img, ax=self.ax)\n",
    "        self.ax.set_title(f'Slice 0')\n",
    "\n",
    "        # Output widget\n",
    "        self.out = ipyw.Output()\n",
    "        with self.out:\n",
    "            plt.show()\n",
    "\n",
    "        # Layout widgets and display\n",
    "        display(VBox([self.out, self.slice_slider]))\n",
    "\n",
    "        # Register event handlers\n",
    "        self.slice_slider.observe(self.update_slice, names='value')\n",
    "\n",
    "    def get_slice(self, z):\n",
    "        return self.volume[:, :, z]\n",
    "\n",
    "    def update_slice(self, change):\n",
    "        z = change['new']\n",
    "        with self.out:\n",
    "            self.img.set_data(self.get_slice(z))\n",
    "            self.ax.set_title(f'Slice {z}')\n",
    "            self.img.set_clim(self.v[0], self.v[1])  # Predefined color limits\n",
    "            self.fig.canvas.draw_idle()\n",
    "\n",
    "# Example usage\n",
    "x = np.random.rand(256, 256, 36)\n",
    "ImageSliceViewer3D(x)\n"
   ]
  },
  {
   "cell_type": "code",
   "execution_count": null,
   "metadata": {},
   "outputs": [],
   "source": [
    "import numpy as np\n",
    "from src.lavlab.jupyter.images import ImageSliceViewer3D\n",
    "\n",
    "x = np.random.rand(256, 256, 36)\n",
    "ImageSliceViewer3D(x)"
   ]
  },
  {
   "cell_type": "code",
   "execution_count": 12,
   "metadata": {},
   "outputs": [
    {
     "data": {
      "text/plain": [
       "['/home/vscode/.local/lib/python3.11/site-packages/pydicom/data/test_files/dicomdirtests/98892003/MR1']"
      ]
     },
     "execution_count": 12,
     "metadata": {},
     "output_type": "execute_result"
    }
   ],
   "source": [
    "import pydicom.data\n",
    "pydicom.data.get_testdata_files('dicomdirtests/98892003/MR1')"
   ]
  },
  {
   "cell_type": "markdown",
   "metadata": {},
   "source": []
  },
  {
   "cell_type": "code",
   "execution_count": 14,
   "metadata": {},
   "outputs": [
    {
     "ename": "TypeError",
     "evalue": "dcmread: Expected a file path or a file-like, but got list",
     "output_type": "error",
     "traceback": [
      "\u001b[0;31m---------------------------------------------------------------------------\u001b[0m",
      "\u001b[0;31mTypeError\u001b[0m                                 Traceback (most recent call last)",
      "Cell \u001b[0;32mIn[14], line 9\u001b[0m\n\u001b[1;32m      6\u001b[0m dicom_files \u001b[38;5;241m=\u001b[39m [os\u001b[38;5;241m.\u001b[39mpath\u001b[38;5;241m.\u001b[39mjoin(dicom_dir, filename) \u001b[38;5;28;01mfor\u001b[39;00m filename \u001b[38;5;129;01min\u001b[39;00m os\u001b[38;5;241m.\u001b[39mlistdir(dicom_dir)]\n\u001b[1;32m      8\u001b[0m \u001b[38;5;66;03m# Read the DICOM directory\u001b[39;00m\n\u001b[0;32m----> 9\u001b[0m dicom_dataset \u001b[38;5;241m=\u001b[39m \u001b[43mpydicom\u001b[49m\u001b[38;5;241;43m.\u001b[39;49m\u001b[43mdcmread\u001b[49m\u001b[43m(\u001b[49m\u001b[43mdicom_files\u001b[49m\u001b[43m)\u001b[49m\n\u001b[1;32m     11\u001b[0m \u001b[38;5;66;03m# Access DICOM files and their attributes\u001b[39;00m\n\u001b[1;32m     12\u001b[0m \u001b[38;5;28;01mfor\u001b[39;00m ds \u001b[38;5;129;01min\u001b[39;00m dicom_dataset:\n\u001b[1;32m     13\u001b[0m     \u001b[38;5;66;03m# Print some attributes of the DICOM file\u001b[39;00m\n",
      "File \u001b[0;32m~/.local/lib/python3.11/site-packages/pydicom/filereader.py:1004\u001b[0m, in \u001b[0;36mdcmread\u001b[0;34m(fp, defer_size, stop_before_pixels, force, specific_tags)\u001b[0m\n\u001b[1;32m   1002\u001b[0m     fp \u001b[38;5;241m=\u001b[39m \u001b[38;5;28mopen\u001b[39m(fp, \u001b[38;5;124m'\u001b[39m\u001b[38;5;124mrb\u001b[39m\u001b[38;5;124m'\u001b[39m)\n\u001b[1;32m   1003\u001b[0m \u001b[38;5;28;01melif\u001b[39;00m fp \u001b[38;5;129;01mis\u001b[39;00m \u001b[38;5;28;01mNone\u001b[39;00m \u001b[38;5;129;01mor\u001b[39;00m \u001b[38;5;129;01mnot\u001b[39;00m \u001b[38;5;28mhasattr\u001b[39m(fp, \u001b[38;5;124m\"\u001b[39m\u001b[38;5;124mread\u001b[39m\u001b[38;5;124m\"\u001b[39m) \u001b[38;5;129;01mor\u001b[39;00m \u001b[38;5;129;01mnot\u001b[39;00m \u001b[38;5;28mhasattr\u001b[39m(fp, \u001b[38;5;124m\"\u001b[39m\u001b[38;5;124mseek\u001b[39m\u001b[38;5;124m\"\u001b[39m):\n\u001b[0;32m-> 1004\u001b[0m     \u001b[38;5;28;01mraise\u001b[39;00m \u001b[38;5;167;01mTypeError\u001b[39;00m(\u001b[38;5;124m\"\u001b[39m\u001b[38;5;124mdcmread: Expected a file path or a file-like, \u001b[39m\u001b[38;5;124m\"\u001b[39m\n\u001b[1;32m   1005\u001b[0m                     \u001b[38;5;124m\"\u001b[39m\u001b[38;5;124mbut got \u001b[39m\u001b[38;5;124m\"\u001b[39m \u001b[38;5;241m+\u001b[39m \u001b[38;5;28mtype\u001b[39m(fp)\u001b[38;5;241m.\u001b[39m\u001b[38;5;18m__name__\u001b[39m)\n\u001b[1;32m   1007\u001b[0m \u001b[38;5;28;01mif\u001b[39;00m config\u001b[38;5;241m.\u001b[39mdebugging:\n\u001b[1;32m   1008\u001b[0m     logger\u001b[38;5;241m.\u001b[39mdebug(\u001b[38;5;124m\"\u001b[39m\u001b[38;5;130;01m\\n\u001b[39;00m\u001b[38;5;124m\"\u001b[39m \u001b[38;5;241m+\u001b[39m \u001b[38;5;124m\"\u001b[39m\u001b[38;5;124m-\u001b[39m\u001b[38;5;124m\"\u001b[39m \u001b[38;5;241m*\u001b[39m \u001b[38;5;241m80\u001b[39m)\n",
      "\u001b[0;31mTypeError\u001b[0m: dcmread: Expected a file path or a file-like, but got list"
     ]
    }
   ],
   "source": [
    "import os\n",
    "from pydicom.data import get_testdata_file, get_testdata_files\n",
    "\n",
    "dicom_dir = get_testdata_files('dicomdirtests/98892003/MR1')[0]\n",
    "# Get a list of all DICOM files in the directory\n",
    "dicom_files = [os.path.join(dicom_dir, filename) for filename in os.listdir(dicom_dir)]\n",
    "\n",
    "# Read the DICOM directory\n",
    "dicom_dataset = pydicom.dcmread(dicom_files)\n",
    "\n",
    "# Access DICOM files and their attributes\n",
    "for ds in dicom_dataset:\n",
    "    # Print some attributes of the DICOM file\n",
    "    print(\"Patient ID:\", ds.PatientID)\n",
    "    print(\"Study Description:\", ds.StudyDescription)\n",
    "    print(\"Series Description:\", ds.SeriesDescription)\n",
    "    print(\"Instance Number:\", ds.InstanceNumber)"
   ]
  },
  {
   "cell_type": "code",
   "execution_count": 2,
   "metadata": {},
   "outputs": [],
   "source": [
    "import pyvips as pv\n",
    "img =pv.Image.black(100,100)"
   ]
  },
  {
   "cell_type": "code",
   "execution_count": 6,
   "metadata": {},
   "outputs": [
    {
     "ename": "AttributeError",
     "evalue": "",
     "output_type": "error",
     "traceback": [
      "\u001b[0;31m---------------------------------------------------------------------------\u001b[0m",
      "\u001b[0;31mError\u001b[0m                                     Traceback (most recent call last)",
      "File \u001b[0;32m~/.local/lib/python3.11/site-packages/pyvips/vimage.py:1339\u001b[0m, in \u001b[0;36mImage.__getattr__\u001b[0;34m(self, name)\u001b[0m\n\u001b[1;32m   1337\u001b[0m \u001b[38;5;28;01mtry\u001b[39;00m:\n\u001b[1;32m   1338\u001b[0m     \u001b[38;5;66;03m# this will throw an exception if not\u001b[39;00m\n\u001b[0;32m-> 1339\u001b[0m     \u001b[43mIntrospect\u001b[49m\u001b[38;5;241;43m.\u001b[39;49m\u001b[43mget\u001b[49m\u001b[43m(\u001b[49m\u001b[43mname\u001b[49m\u001b[43m)\u001b[49m\n\u001b[1;32m   1340\u001b[0m \u001b[38;5;28;01mexcept\u001b[39;00m Error:\n\u001b[1;32m   1341\u001b[0m     \u001b[38;5;66;03m# we need to throw this exception for missing methods, eg. numpy\u001b[39;00m\n\u001b[1;32m   1342\u001b[0m     \u001b[38;5;66;03m# checks for this\u001b[39;00m\n",
      "File \u001b[0;32m~/.local/lib/python3.11/site-packages/pyvips/voperation.py:153\u001b[0m, in \u001b[0;36mIntrospect.get\u001b[0;34m(cls, operation_name)\u001b[0m\n\u001b[1;32m    152\u001b[0m \u001b[38;5;28;01mif\u001b[39;00m operation_name \u001b[38;5;129;01mnot\u001b[39;00m \u001b[38;5;129;01min\u001b[39;00m \u001b[38;5;28mcls\u001b[39m\u001b[38;5;241m.\u001b[39m_introspect_cache:\n\u001b[0;32m--> 153\u001b[0m     \u001b[38;5;28mcls\u001b[39m\u001b[38;5;241m.\u001b[39m_introspect_cache[operation_name] \u001b[38;5;241m=\u001b[39m \u001b[43mIntrospect\u001b[49m\u001b[43m(\u001b[49m\u001b[43moperation_name\u001b[49m\u001b[43m)\u001b[49m\n\u001b[1;32m    155\u001b[0m \u001b[38;5;28;01mreturn\u001b[39;00m \u001b[38;5;28mcls\u001b[39m\u001b[38;5;241m.\u001b[39m_introspect_cache[operation_name]\n",
      "File \u001b[0;32m~/.local/lib/python3.11/site-packages/pyvips/voperation.py:39\u001b[0m, in \u001b[0;36mIntrospect.__init__\u001b[0;34m(self, operation_name)\u001b[0m\n\u001b[1;32m     38\u001b[0m \u001b[38;5;28;01mdef\u001b[39;00m \u001b[38;5;21m__init__\u001b[39m(\u001b[38;5;28mself\u001b[39m, operation_name):\n\u001b[0;32m---> 39\u001b[0m     op \u001b[38;5;241m=\u001b[39m \u001b[43mOperation\u001b[49m\u001b[38;5;241;43m.\u001b[39;49m\u001b[43mnew_from_name\u001b[49m\u001b[43m(\u001b[49m\u001b[43moperation_name\u001b[49m\u001b[43m)\u001b[49m\n\u001b[1;32m     41\u001b[0m     \u001b[38;5;28mself\u001b[39m\u001b[38;5;241m.\u001b[39mdescription \u001b[38;5;241m=\u001b[39m op\u001b[38;5;241m.\u001b[39mget_description()\n",
      "File \u001b[0;32m~/.local/lib/python3.11/site-packages/pyvips/voperation.py:193\u001b[0m, in \u001b[0;36mOperation.new_from_name\u001b[0;34m(operation_name)\u001b[0m\n\u001b[1;32m    192\u001b[0m \u001b[38;5;28;01mif\u001b[39;00m vop \u001b[38;5;241m==\u001b[39m ffi\u001b[38;5;241m.\u001b[39mNULL:\n\u001b[0;32m--> 193\u001b[0m     \u001b[38;5;28;01mraise\u001b[39;00m Error(\u001b[38;5;124m'\u001b[39m\u001b[38;5;124mno such operation \u001b[39m\u001b[38;5;132;01m{0}\u001b[39;00m\u001b[38;5;124m'\u001b[39m\u001b[38;5;241m.\u001b[39mformat(operation_name))\n\u001b[1;32m    194\u001b[0m \u001b[38;5;28;01mreturn\u001b[39;00m Operation(vop)\n",
      "\u001b[0;31mError\u001b[0m: no such operation shiftx\n  VipsOperation: class \"shiftx\" not found\n",
      "\nDuring handling of the above exception, another exception occurred:\n",
      "\u001b[0;31mAttributeError\u001b[0m                            Traceback (most recent call last)",
      "Cell \u001b[0;32mIn[6], line 1\u001b[0m\n\u001b[0;32m----> 1\u001b[0m \u001b[43mimg\u001b[49m\u001b[38;5;241;43m.\u001b[39;49m\u001b[43mshiftx\u001b[49m(\u001b[38;5;241m10\u001b[39m,\u001b[38;5;241m10\u001b[39m)\n",
      "File \u001b[0;32m~/.local/lib/python3.11/site-packages/pyvips/vimage.py:1343\u001b[0m, in \u001b[0;36mImage.__getattr__\u001b[0;34m(self, name)\u001b[0m\n\u001b[1;32m   1339\u001b[0m     Introspect\u001b[38;5;241m.\u001b[39mget(name)\n\u001b[1;32m   1340\u001b[0m \u001b[38;5;28;01mexcept\u001b[39;00m Error:\n\u001b[1;32m   1341\u001b[0m     \u001b[38;5;66;03m# we need to throw this exception for missing methods, eg. numpy\u001b[39;00m\n\u001b[1;32m   1342\u001b[0m     \u001b[38;5;66;03m# checks for this\u001b[39;00m\n\u001b[0;32m-> 1343\u001b[0m     \u001b[38;5;28;01mraise\u001b[39;00m \u001b[38;5;167;01mAttributeError\u001b[39;00m\n\u001b[1;32m   1345\u001b[0m \u001b[38;5;129m@_add_doc\u001b[39m(name)\n\u001b[1;32m   1346\u001b[0m \u001b[38;5;28;01mdef\u001b[39;00m \u001b[38;5;21mcall_function\u001b[39m(\u001b[38;5;241m*\u001b[39margs, \u001b[38;5;241m*\u001b[39m\u001b[38;5;241m*\u001b[39mkwargs):\n\u001b[1;32m   1347\u001b[0m     \u001b[38;5;28;01mreturn\u001b[39;00m pyvips\u001b[38;5;241m.\u001b[39mOperation\u001b[38;5;241m.\u001b[39mcall(name, \u001b[38;5;28mself\u001b[39m, \u001b[38;5;241m*\u001b[39margs, \u001b[38;5;241m*\u001b[39m\u001b[38;5;241m*\u001b[39mkwargs)\n",
      "\u001b[0;31mAttributeError\u001b[0m: "
     ]
    }
   ],
   "source": [
    "img.shiftx(10,10)"
   ]
  },
  {
   "cell_type": "code",
   "execution_count": 1,
   "metadata": {},
   "outputs": [
    {
     "ename": "PermissionDeniedException",
     "evalue": "exception ::Glacier2::PermissionDeniedException\n{\n    reason = internal server error\n}",
     "output_type": "error",
     "traceback": [
      "\u001b[0;31m---------------------------------------------------------------------------\u001b[0m",
      "\u001b[0;31mPermissionDeniedException\u001b[0m                 Traceback (most recent call last)",
      "Cell \u001b[0;32mIn[1], line 6\u001b[0m\n\u001b[1;32m      4\u001b[0m c \u001b[38;5;241m=\u001b[39m omero\u001b[38;5;241m.\u001b[39mclient(host\u001b[38;5;241m=\u001b[39m\u001b[38;5;124m'\u001b[39m\u001b[38;5;124mwss://idr.openmicroscopy.org/omero-ws\u001b[39m\u001b[38;5;124m'\u001b[39m, port\u001b[38;5;241m=\u001b[39m\u001b[38;5;241m443\u001b[39m)\n\u001b[1;32m      5\u001b[0m c\u001b[38;5;241m.\u001b[39menableKeepAlive(\u001b[38;5;241m300\u001b[39m)\n\u001b[0;32m----> 6\u001b[0m \u001b[43mc\u001b[49m\u001b[38;5;241;43m.\u001b[39;49m\u001b[43mcreateSession\u001b[49m\u001b[43m(\u001b[49m\u001b[38;5;124;43m'\u001b[39;49m\u001b[38;5;124;43mpublic\u001b[39;49m\u001b[38;5;124;43m'\u001b[39;49m\u001b[43m,\u001b[49m\u001b[43m \u001b[49m\u001b[38;5;124;43m'\u001b[39;49m\u001b[38;5;124;43mpublic\u001b[39;49m\u001b[38;5;124;43m'\u001b[39;49m\u001b[43m)\u001b[49m\n\u001b[1;32m      7\u001b[0m conn \u001b[38;5;241m=\u001b[39m BlitzGateway(client_obj\u001b[38;5;241m=\u001b[39mc)\n",
      "File \u001b[0;32m~/.local/lib/python3.11/site-packages/omero/clients.py:625\u001b[0m, in \u001b[0;36mBaseClient.createSession\u001b[0;34m(self, username, password)\u001b[0m\n\u001b[1;32m    623\u001b[0m     ctx[omero\u001b[38;5;241m.\u001b[39mconstants\u001b[38;5;241m.\u001b[39mIP] \u001b[38;5;241m=\u001b[39m \u001b[38;5;28mself\u001b[39m\u001b[38;5;241m.\u001b[39m__ip\n\u001b[1;32m    624\u001b[0m rtr \u001b[38;5;241m=\u001b[39m \u001b[38;5;28mself\u001b[39m\u001b[38;5;241m.\u001b[39mgetRouter(\u001b[38;5;28mself\u001b[39m\u001b[38;5;241m.\u001b[39m__ic)\n\u001b[0;32m--> 625\u001b[0m prx \u001b[38;5;241m=\u001b[39m \u001b[43mrtr\u001b[49m\u001b[38;5;241;43m.\u001b[39;49m\u001b[43mcreateSession\u001b[49m\u001b[43m(\u001b[49m\u001b[43musername\u001b[49m\u001b[43m,\u001b[49m\u001b[43m \u001b[49m\u001b[43mpassword\u001b[49m\u001b[43m,\u001b[49m\u001b[43m \u001b[49m\u001b[43mctx\u001b[49m\u001b[43m)\u001b[49m\n\u001b[1;32m    627\u001b[0m \u001b[38;5;66;03m# Create the adapter\u001b[39;00m\n\u001b[1;32m    628\u001b[0m \u001b[38;5;28mself\u001b[39m\u001b[38;5;241m.\u001b[39m__oa \u001b[38;5;241m=\u001b[39m \u001b[38;5;28mself\u001b[39m\u001b[38;5;241m.\u001b[39m__ic\u001b[38;5;241m.\u001b[39mcreateObjectAdapterWithRouter(\n\u001b[1;32m    629\u001b[0m     \u001b[38;5;124m\"\u001b[39m\u001b[38;5;124momero.ClientCallback\u001b[39m\u001b[38;5;124m\"\u001b[39m, rtr)\n",
      "File \u001b[0;32m~/.local/lib/python3.11/site-packages/Glacier2_Router_ice.py:258\u001b[0m, in \u001b[0;36mRouterPrx.createSession\u001b[0;34m(self, userId, password, _ctx)\u001b[0m\n\u001b[1;32m    257\u001b[0m \u001b[38;5;28;01mdef\u001b[39;00m \u001b[38;5;21mcreateSession\u001b[39m(\u001b[38;5;28mself\u001b[39m, userId, password, _ctx\u001b[38;5;241m=\u001b[39m\u001b[38;5;28;01mNone\u001b[39;00m):\n\u001b[0;32m--> 258\u001b[0m     \u001b[38;5;28;01mreturn\u001b[39;00m \u001b[43m_M_Glacier2\u001b[49m\u001b[38;5;241;43m.\u001b[39;49m\u001b[43mRouter\u001b[49m\u001b[38;5;241;43m.\u001b[39;49m\u001b[43m_op_createSession\u001b[49m\u001b[38;5;241;43m.\u001b[39;49m\u001b[43minvoke\u001b[49m\u001b[43m(\u001b[49m\u001b[38;5;28;43mself\u001b[39;49m\u001b[43m,\u001b[49m\u001b[43m \u001b[49m\u001b[43m(\u001b[49m\u001b[43m(\u001b[49m\u001b[43muserId\u001b[49m\u001b[43m,\u001b[49m\u001b[43m \u001b[49m\u001b[43mpassword\u001b[49m\u001b[43m)\u001b[49m\u001b[43m,\u001b[49m\u001b[43m \u001b[49m\u001b[43m_ctx\u001b[49m\u001b[43m)\u001b[49m\u001b[43m)\u001b[49m\n",
      "\u001b[0;31mPermissionDeniedException\u001b[0m: exception ::Glacier2::PermissionDeniedException\n{\n    reason = internal server error\n}"
     ]
    }
   ],
   "source": [
    "from omero.gateway import BlitzGateway\n",
    "import omero\n",
    "\n",
    "c = omero.client(host='wss://idr.openmicroscopy.org/omero-ws', port=443)\n",
    "c.enableKeepAlive(300)\n",
    "c.createSession('public', 'public')\n",
    "conn = BlitzGateway(client_obj=c)"
   ]
  },
  {
   "cell_type": "code",
   "execution_count": 11,
   "metadata": {},
   "outputs": [],
   "source": [
    "img = conn.getObject('image', '362')"
   ]
  },
  {
   "cell_type": "code",
   "execution_count": 13,
   "metadata": {},
   "outputs": [
    {
     "data": {
      "text/plain": [
       "0.2"
      ]
     },
     "execution_count": 13,
     "metadata": {},
     "output_type": "execute_result"
    }
   ],
   "source": [
    "img.getPixelSizeX()"
   ]
  },
  {
   "cell_type": "code",
   "execution_count": 14,
   "metadata": {},
   "outputs": [
    {
     "data": {
      "text/plain": [
       "(None,\n",
       " [('BitsPerSample', '8'),\n",
       "  ('Compress Method', 'Lossy'),\n",
       "  ('Compress Option', 'JPEG'),\n",
       "  ('Compression', 'JPEG'),\n",
       "  ('DateTime', '2021:05:05 11:24:56'),\n",
       "  ('DeviceID', 'NC'),\n",
       "  ('Image Dimensions', '137240x227547 Pixels'),\n",
       "  ('Image Quality', '0.900000'),\n",
       "  ('ImageID', '{103F1576-58EA-4613-8BF7-C617D07A05D5}'),\n",
       "  ('ImageLength', '227547'),\n",
       "  ('ImageWidth', '137240'),\n",
       "  ('Instrument Make', 'Huron Digital Pathology'),\n",
       "  ('Instrument Model', 'NC'),\n",
       "  ('MetaDataPhotometricInterpretation', 'RGB'),\n",
       "  ('MetaMorph', 'no'),\n",
       "  ('NewSubfileType', '2'),\n",
       "  ('NumberOfChannels', '3'),\n",
       "  ('Orientation', '1st row - top; 1st column - left'),\n",
       "  ('PageNumber', '0 6'),\n",
       "  ('PhotometricInterpretation', 'YCbCr'),\n",
       "  ('PlanarConfiguration', 'Chunky'),\n",
       "  ('ReferenceBlackWhite', '0'),\n",
       "  ('Resolution', '0.20 um'),\n",
       "  ('ResolutionUnit', 'Centimeter'),\n",
       "  ('SamplesPerPixel', '3'),\n",
       "  ('Scan Duration', '00:12:26'),\n",
       "  ('Scan Size', '27.45x45.51 mm'),\n",
       "  ('Scan Started', '2021:05:05 11:24:56'),\n",
       "  ('Software', 'MACROscan LE2.0 v1.1.2.0'),\n",
       "  ('Source', 'Bright Field'),\n",
       "  ('TileLength', '256'),\n",
       "  ('TileWidth', '256'),\n",
       "  ('XResolution', '50000.0'),\n",
       "  ('YResolution', '50000.0')],\n",
       " [])"
      ]
     },
     "execution_count": 14,
     "metadata": {},
     "output_type": "execute_result"
    }
   ],
   "source": [
    "img.loadOriginalMetadata()"
   ]
  },
  {
   "cell_type": "code",
   "execution_count": 3,
   "metadata": {},
   "outputs": [
    {
     "name": "stdout",
     "output_type": "stream",
     "text": [
      "test\n"
     ]
    },
    {
     "data": {
      "text/plain": [
       "<__main__.test at 0x7f8c410741d0>"
      ]
     },
     "execution_count": 3,
     "metadata": {},
     "output_type": "execute_result"
    }
   ],
   "source": [
    "class test:\n",
    "    def __init__(self):\n",
    "        print(str(self.__class__.__name__))\n",
    "test()"
   ]
  },
  {
   "cell_type": "code",
   "execution_count": 1,
   "metadata": {},
   "outputs": [],
   "source": [
    "import multiprocessing"
   ]
  },
  {
   "cell_type": "code",
   "execution_count": 2,
   "metadata": {},
   "outputs": [
    {
     "data": {
      "text/plain": [
       "95"
      ]
     },
     "execution_count": 2,
     "metadata": {},
     "output_type": "execute_result"
    }
   ],
   "source": [
    "multiprocessing.cpu_count()"
   ]
  },
  {
   "cell_type": "code",
   "execution_count": 3,
   "metadata": {},
   "outputs": [
    {
     "ename": "NameError",
     "evalue": "name 'asdf' is not defined",
     "output_type": "error",
     "traceback": [
      "\u001b[0;31m---------------------------------------------------------------------------\u001b[0m",
      "\u001b[0;31mNameError\u001b[0m                                 Traceback (most recent call last)",
      "Cell \u001b[0;32mIn[3], line 1\u001b[0m\n\u001b[0;32m----> 1\u001b[0m \u001b[38;5;28;01mif\u001b[39;00m \u001b[38;5;129;01mnot\u001b[39;00m \u001b[43masdf\u001b[49m:\n\u001b[1;32m      2\u001b[0m     \u001b[38;5;28mprint\u001b[39m(\u001b[38;5;124m\"\u001b[39m\u001b[38;5;124mnice\u001b[39m\u001b[38;5;124m\"\u001b[39m)\n",
      "\u001b[0;31mNameError\u001b[0m: name 'asdf' is not defined"
     ]
    }
   ],
   "source": [
    "if not asdf:\n",
    "    print(\"nice\")"
   ]
  },
  {
   "cell_type": "code",
   "execution_count": null,
   "metadata": {},
   "outputs": [],
   "source": []
  }
 ],
 "metadata": {
  "kernelspec": {
   "display_name": "Python 3",
   "language": "python",
   "name": "python3"
  },
  "language_info": {
   "codemirror_mode": {
    "name": "ipython",
    "version": 3
   },
   "file_extension": ".py",
   "mimetype": "text/x-python",
   "name": "python",
   "nbconvert_exporter": "python",
   "pygments_lexer": "ipython3",
   "version": "3.11.2"
  }
 },
 "nbformat": 4,
 "nbformat_minor": 2
}
